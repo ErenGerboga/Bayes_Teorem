{
  "nbformat": 4,
  "nbformat_minor": 0,
  "metadata": {
    "colab": {
      "name": "BayesTeorem.ipynb",
      "provenance": [],
      "collapsed_sections": [],
      "authorship_tag": "ABX9TyOH37O5QGrrBt2WcvWtWYsf",
      "include_colab_link": true
    },
    "kernelspec": {
      "name": "python3",
      "display_name": "Python 3"
    }
  },
  "cells": [
    {
      "cell_type": "markdown",
      "metadata": {
        "id": "view-in-github",
        "colab_type": "text"
      },
      "source": [
        "<a href=\"https://colab.research.google.com/github/ErenGerboga/Bayes_Teorem/blob/master/BayesTeorem.ipynb\" target=\"_parent\"><img src=\"https://colab.research.google.com/assets/colab-badge.svg\" alt=\"Open In Colab\"/></a>"
      ]
    },
    {
      "cell_type": "code",
      "metadata": {
        "id": "RuK13qQH3Gje",
        "colab_type": "code",
        "colab": {}
      },
      "source": [
        ""
      ],
      "execution_count": 0,
      "outputs": []
    },
    {
      "cell_type": "markdown",
      "metadata": {
        "id": "QdR8Xe3E3Hos",
        "colab_type": "text"
      },
      "source": [
        "# **BAYES TEOREM**\n",
        "\n",
        "# A.Eren Gerboğa 195112014\n",
        "\n",
        "\n",
        "## **Problem**\n",
        " Bir ülkede pandemi nedeniyle vatandaşlara maddi destek sağlanmaktadır.\n",
        " Ülkede yaşayan insanların %50 si kampanyaya başvuru yapmıştır ve başvuranların % 65'i destek alabilmiştir.\n",
        " Ülke nüfusunun %20'si fakir % 40'ı orta halli % 40'ı zengindir.\n",
        " Ülkede uygulanan maddi destek kampanyasına başvuran insanların %70'i fakir\n",
        " % 20'si orta halli %10'u ise zengin olduğu bilindiğine göre;\n",
        "##**A)**  Rastgele seçilen bir insanın kampanyadan yararlanmış ve fakir olma olasılığı nedir?\n",
        "## **B)**  Rastgele seçilen bir insanın zengin olduğu bilindiğine göre destek almış olma olasılığı nedir?\n",
        "---\n",
        "Financial support is provided to citizens due to a pandemic in a country.\n",
        "50% of the people living in the country applied for the campaign and 65% of the applicants are approved.\n",
        "20% of the country's population is poor, 40% is middle-class, 40% is rich.\n",
        " According to the fact that 70% of the people who applied to the financial support campaign\n",
        " implemented in the country are poor, 20% are in the middle-class and 10% are rich,\n",
        "## **A)** What is the probability that a randomly chosen a person will benefit from the campaign and be from the poor?\n",
        "## **B)**  What is the probability that randomly chosen a person will benefit from the campaign as its know be rich?\n",
        "---\n",
        "# Çözüm :\n",
        "# Solution: \n",
        "# **A)** \n",
        "* -- Başvuru yapan kitle %50\n",
        "* -- Applicants %50\n",
        "* -- Başvurusu onaylanan kitle = %50*%65  \n",
        "* -- Approved applicants = %50*%65   \n",
        "* -- Fakir İnsan Yüzedesi =  %20\n",
        "* -- Percentage of Poor people = %20\n",
        "* -- Fakir ve başvuru yapan insan yüzdesi = %20*%70\n",
        "* -- Approved poor applicants percentage of people = %20*%70\n",
        "---"
      ]
    },
    {
      "cell_type": "code",
      "metadata": {
        "id": "dHIKdZHgumtE",
        "colab_type": "code",
        "colab": {
          "base_uri": "https://localhost:8080/",
          "height": 52
        },
        "outputId": "4d8405e3-177b-4a9d-deeb-bf85e2a7764f"
      },
      "source": [
        "Pa=0.50\n",
        "PaOK=0.50*0.65\n",
        "Pp=0.20\n",
        "Pap=0.20*0.70\n",
        "PapOK=PaOK*Pap\n",
        "print(\"Sonuc  A = %\",PapOK)\n",
        "print(\"Result A = %\",PapOK)"
      ],
      "execution_count": 1,
      "outputs": [
        {
          "output_type": "stream",
          "text": [
            "Sonuc  A = % 0.0455\n",
            "Result A = % 0.0455\n"
          ],
          "name": "stdout"
        }
      ]
    },
    {
      "cell_type": "code",
      "metadata": {
        "id": "_aavUY2VupIW",
        "colab_type": "code",
        "colab": {}
      },
      "source": [
        ""
      ],
      "execution_count": 0,
      "outputs": []
    },
    {
      "cell_type": "markdown",
      "metadata": {
        "id": "iCvjAyLMussu",
        "colab_type": "text"
      },
      "source": [
        "# **B)** \n",
        "* -- Kampanyadan yararlanan insanlar Kümesi = A\n",
        "* -- People who benefit from the campaign Cluster  = A\n",
        "* -- Kampanyadan yararlanan zengin insanlar Kümesi = B\n",
        "* -- Rich people who benefit from the campaign Cluster = B\n",
        "* -- Zengin olma olasılığı = P(B)\n",
        "* -- The probablity that chosen rich person\n",
        "* -- Kampanyadan yararlanma olasılığı = P(A)\n",
        "* -- The probablity that benefit from the campaign\n",
        "---\n",
        "## P(B)    = 0.4\n",
        "## P(B')   = 1-0.4 \n",
        "## P(B|A)  = 0.50* 0.65* 0.10* 0.40\n",
        "## P(B|A') = (1-(0.50* 0.65)) * 0.40\n",
        "\n",
        "# **Bayes_Formula**\n",
        "---\n",
        "## P(A|B)= (P(B)* P(B|A)) / [P(B)* P(B|A)]+[P(B')* P(B|A')]\n",
        "---"
      ]
    },
    {
      "cell_type": "code",
      "metadata": {
        "id": "RW2dMzATuuJw",
        "colab_type": "code",
        "colab": {
          "base_uri": "https://localhost:8080/",
          "height": 52
        },
        "outputId": "a8427126-f2b7-4cfd-97b5-76e8da7faad4"
      },
      "source": [
        "Pb=0.4\n",
        "PbR=1-0.4\n",
        "Pba=0.50*0.65*0.10*0.40\n",
        "PbaR=1-(0.50*0.65)*0.40\n",
        "\n",
        "Pab= (Pb*Pba)/ ((Pb*Pba)+(PbR*PbaR))\n",
        "print(\"Sonuç  B = %\",Pab)\n",
        "print(\"Result B = %\",Pab)\n"
      ],
      "execution_count": 2,
      "outputs": [
        {
          "output_type": "stream",
          "text": [
            "Sonuç  B = % 0.009863429438543249\n",
            "Result B = % 0.009863429438543249\n"
          ],
          "name": "stdout"
        }
      ]
    }
  ]
}